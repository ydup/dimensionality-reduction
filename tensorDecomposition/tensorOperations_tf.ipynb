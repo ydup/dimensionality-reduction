{
 "cells": [
  {
   "cell_type": "markdown",
   "metadata": {},
   "source": [
    "# Tensor Operations with Tensorflow\n"
   ]
  },
  {
   "cell_type": "code",
   "execution_count": 1,
   "metadata": {},
   "outputs": [],
   "source": [
    "import tensorflow as tf\n",
    "import numpy as np"
   ]
  },
  {
   "cell_type": "markdown",
   "metadata": {},
   "source": [
    "## Tensor Product & Square & Sum"
   ]
  },
  {
   "cell_type": "code",
   "execution_count": 2,
   "metadata": {},
   "outputs": [
    {
     "name": "stdout",
     "output_type": "stream",
     "text": [
      "[[  5.   6.]\n",
      " [ 10.  12.]\n",
      " [ 15.  18.]]\n",
      "[[[  5.]\n",
      "  [  6.]]\n",
      "\n",
      " [[ 10.]\n",
      "  [ 12.]]\n",
      "\n",
      " [[ 15.]\n",
      "  [ 18.]]]\n",
      "[[  25.   36.]\n",
      " [ 100.  144.]\n",
      " [ 225.  324.]]\n",
      "854.0\n",
      "[[ 10.  12.]\n",
      " [ 20.  24.]\n",
      " [ 30.  36.]]\n"
     ]
    }
   ],
   "source": [
    "\n",
    "a = tf.placeholder(tf.float32, shape=(1, 3))\n",
    "b = tf.placeholder(tf.float32, shape=(1, 2))\n",
    "c = tf.placeholder(tf.float32, shape=(1, 3))\n",
    "# two vectors outer dot -> a and b. \n",
    "ab = tf.tensordot(a, b, axes=([0], [0]))\n",
    "# reshape the ab matrix into a 3D tensor\n",
    "ab_ = tf.reshape(ab, shape=(3 ,2, 1))\n",
    "# 2D matrix outer dot with the third vector\n",
    "abc = tf.tensordot(ab_, c, axes=([2], [0])) \n",
    "\n",
    "# test the square for each element of vector\n",
    "a_2 = tf.square(a)\n",
    "# test the square for each element of matrix\n",
    "ab_2 = tf.square(ab)\n",
    "# calculate the sum of squared matrix\n",
    "ab_2sum = tf.reduce_sum(ab_2, reduction_indices=[0,1])\n",
    "# product the matrix with a constant\n",
    "lamda = tf.Variable(2.0, tf.float32)\n",
    "ab_lamda = lamda*ab\n",
    "\n",
    "\n",
    "with tf.Session() as session:\n",
    "    # initialize the variables\n",
    "    session.run(tf.global_variables_initializer())\n",
    "    # print ab\n",
    "    print ((ab.eval(\n",
    "        feed_dict={ a: [[1,2,3]], b: [[5,6]] , c:[[1,1,1]]})))\n",
    "    # print ab_\n",
    "    print ((ab_.eval(\n",
    "        feed_dict={ a: [[1,2,3]], b: [[5,6]] , c:[[1,1,1]]})))\n",
    "    # print abc\n",
    "    X = abc.eval(\n",
    "        feed_dict={ a: [[1,2,3]], b: [[5,6]] , c:[[1,1,1]]}\n",
    "    )\n",
    "    # print ab_2\n",
    "    print ab_2.eval(feed_dict={a:[[1,2,3]], b:[[5,6]]})\n",
    "    # print ab_2sum\n",
    "    print ab_2sum.eval(feed_dict={a:[[1,2,3]], b:[[5,6]]})\n",
    "    # print ab_lamda\n",
    "    print ab_lamda.eval(feed_dict={a:[[1,2,3]], b:[[5,6]]})\n",
    "\n"
   ]
  },
  {
   "cell_type": "markdown",
   "metadata": {},
   "source": [
    "## Filter the NAN Value"
   ]
  },
  {
   "cell_type": "code",
   "execution_count": 3,
   "metadata": {},
   "outputs": [],
   "source": [
    "A = [1,1,np.nan]"
   ]
  },
  {
   "cell_type": "code",
   "execution_count": 4,
   "metadata": {},
   "outputs": [
    {
     "name": "stdout",
     "output_type": "stream",
     "text": [
      "[[ True False]]\n",
      "[ 6.  4.]\n"
     ]
    }
   ],
   "source": [
    "x = tf.placeholder(tf.float64, shape=[None, None])\n",
    "nanX = tf.is_nan(x)\n",
    "y = tf.boolean_mask(x,tf.logical_not(nanX),name='boolean_mask')\n",
    "with tf.Session() as session:\n",
    "    print ((nanX.eval(\n",
    "        feed_dict={ x: [[np.nan,6]]})))\n",
    "    print (y.eval(feed_dict={x:[[np.nan, 6],[4, np.nan]]}))"
   ]
  },
  {
   "cell_type": "markdown",
   "metadata": {},
   "source": [
    "## 2D matrix Dot Product with Tensor in k-mode"
   ]
  },
  {
   "cell_type": "code",
   "execution_count": 5,
   "metadata": {},
   "outputs": [],
   "source": [
    "matrix2D = tf.placeholder(tf.float32, shape=(1, 3))\n",
    "tensor = tf.placeholder(tf.float32, shape = (1,2,3))"
   ]
  },
  {
   "cell_type": "code",
   "execution_count": 6,
   "metadata": {},
   "outputs": [],
   "source": [
    "dotProduct = tf.tensordot(tensor, matrix2D, axes=([2], [1])) "
   ]
  },
  {
   "cell_type": "code",
   "execution_count": 13,
   "metadata": {},
   "outputs": [],
   "source": [
    "mat = np.array([[1,1,2]])"
   ]
  },
  {
   "cell_type": "code",
   "execution_count": 14,
   "metadata": {},
   "outputs": [],
   "source": [
    "ts = np.array([[[1,1,1],[1,1,1]]])"
   ]
  },
  {
   "cell_type": "code",
   "execution_count": 15,
   "metadata": {},
   "outputs": [
    {
     "data": {
      "text/plain": [
       "(1, 2, 3)"
      ]
     },
     "execution_count": 15,
     "metadata": {},
     "output_type": "execute_result"
    }
   ],
   "source": [
    "ts.shape"
   ]
  },
  {
   "cell_type": "code",
   "execution_count": 18,
   "metadata": {},
   "outputs": [
    {
     "name": "stdout",
     "output_type": "stream",
     "text": [
      "(1, 2, 1)\n"
     ]
    }
   ],
   "source": [
    "with tf.Session() as session:\n",
    "    print np.shape(dotProduct.eval(feed_dict={matrix2D:mat, tensor:ts}))"
   ]
  },
  {
   "cell_type": "markdown",
   "metadata": {},
   "source": [
    "\n",
    "## SVD in tensorflow"
   ]
  },
  {
   "cell_type": "code",
   "execution_count": 31,
   "metadata": {},
   "outputs": [
    {
     "name": "stdout",
     "output_type": "stream",
     "text": [
      "[[ 1.  2.  3.]\n",
      " [ 3.  4.  5.]]\n",
      "[ 7.97638869  0.61418515]\n",
      "[[-0.46410668 -0.88577931]\n",
      " [-0.88577931  0.46410668]]\n",
      "[[-0.39133557  0.8247362 ]\n",
      " [-0.5605708   0.13817999]\n",
      " [-0.72980603 -0.54837623]]\n"
     ]
    }
   ],
   "source": [
    "import tensorflow as tf\n",
    "import numpy as np\n",
    "a = np.array([[1,2,3],[3,4,5]])\n",
    "a = a.astype(np.float64)\n",
    "s, u, v = tf.svd(a)\n",
    "tf_a_approx = tf.matmul(u, tf.matmul(tf.diag(s), v, adjoint_b=True))\n",
    "with tf.Session() as session:\n",
    "    print tf_a_approx.eval()\n",
    "    print s.eval()\n",
    "    print u.eval()\n",
    "    print v.eval()\n",
    "u, s, v_adj = np.linalg.svd(a, full_matrices=False)\n",
    "np_a_approx = np.dot(u, np.dot(np.diag(s), v_adj))"
   ]
  },
  {
   "cell_type": "code",
   "execution_count": 32,
   "metadata": {},
   "outputs": [
    {
     "data": {
      "text/plain": [
       "array([[-0.39133557, -0.5605708 , -0.72980603],\n",
       "       [ 0.8247362 ,  0.13817999, -0.54837623]])"
      ]
     },
     "execution_count": 32,
     "metadata": {},
     "output_type": "execute_result"
    }
   ],
   "source": [
    "v_adj"
   ]
  },
  {
   "cell_type": "code",
   "execution_count": 29,
   "metadata": {},
   "outputs": [
    {
     "data": {
      "text/plain": [
       "array([[ 1.,  2.,  3.],\n",
       "       [ 3.,  4.,  5.]])"
      ]
     },
     "execution_count": 29,
     "metadata": {},
     "output_type": "execute_result"
    }
   ],
   "source": [
    "np_a_approx"
   ]
  },
  {
   "cell_type": "code",
   "execution_count": null,
   "metadata": {},
   "outputs": [],
   "source": []
  }
 ],
 "metadata": {
  "kernelspec": {
   "display_name": "Python 2",
   "language": "python",
   "name": "python2"
  },
  "language_info": {
   "codemirror_mode": {
    "name": "ipython",
    "version": 2
   },
   "file_extension": ".py",
   "mimetype": "text/x-python",
   "name": "python",
   "nbconvert_exporter": "python",
   "pygments_lexer": "ipython2",
   "version": "2.7.10"
  },
  "toc": {
   "base_numbering": 1,
   "nav_menu": {},
   "number_sections": true,
   "sideBar": true,
   "skip_h1_title": true,
   "title_cell": "Table of Contents",
   "title_sidebar": "Contents",
   "toc_cell": false,
   "toc_position": {
    "height": "calc(100% - 180px)",
    "left": "10px",
    "top": "150px",
    "width": "384px"
   },
   "toc_section_display": true,
   "toc_window_display": true
  }
 },
 "nbformat": 4,
 "nbformat_minor": 2
}
