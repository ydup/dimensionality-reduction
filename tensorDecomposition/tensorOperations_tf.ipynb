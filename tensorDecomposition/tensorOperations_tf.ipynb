{
 "cells": [
  {
   "cell_type": "markdown",
   "metadata": {},
   "source": [
    "# Tensor Operations with Tensorflow\n"
   ]
  },
  {
   "cell_type": "code",
   "execution_count": 1,
   "metadata": {},
   "outputs": [],
   "source": [
    "import tensorflow as tf\n",
    "import numpy as np"
   ]
  },
  {
   "cell_type": "markdown",
   "metadata": {},
   "source": [
    "## Tensor Product & Square & Sum"
   ]
  },
  {
   "cell_type": "code",
   "execution_count": 2,
   "metadata": {},
   "outputs": [
    {
     "name": "stdout",
     "output_type": "stream",
     "text": [
      "[[  5.   6.]\n",
      " [ 10.  12.]\n",
      " [ 15.  18.]]\n",
      "[[[  5.]\n",
      "  [  6.]]\n",
      "\n",
      " [[ 10.]\n",
      "  [ 12.]]\n",
      "\n",
      " [[ 15.]\n",
      "  [ 18.]]]\n",
      "[[  25.   36.]\n",
      " [ 100.  144.]\n",
      " [ 225.  324.]]\n",
      "854.0\n",
      "[[ 10.  12.]\n",
      " [ 20.  24.]\n",
      " [ 30.  36.]]\n"
     ]
    }
   ],
   "source": [
    "\n",
    "a = tf.placeholder(tf.float32, shape=(1, 3))\n",
    "b = tf.placeholder(tf.float32, shape=(1, 2))\n",
    "c = tf.placeholder(tf.float32, shape=(1, 3))\n",
    "# two vectors outer dot -> a and b. \n",
    "ab = tf.tensordot(a, b, axes=([0], [0]))\n",
    "# reshape the ab matrix into a 3D tensor\n",
    "ab_ = tf.reshape(ab, shape=(3 ,2, 1))\n",
    "# 2D matrix outer dot with the third vector\n",
    "abc = tf.tensordot(ab_, c, axes=([2], [0])) \n",
    "\n",
    "# test the square for each element of vector\n",
    "a_2 = tf.square(a)\n",
    "# test the square for each element of matrix\n",
    "ab_2 = tf.square(ab)\n",
    "# calculate the sum of squared matrix\n",
    "ab_2sum = tf.reduce_sum(ab_2, reduction_indices=[0,1])\n",
    "# product the matrix with a constant\n",
    "lamda = tf.Variable(2.0, tf.float32)\n",
    "ab_lamda = lamda*ab\n",
    "\n",
    "with tf.Session() as session:\n",
    "    # initialize the variables\n",
    "    session.run(tf.global_variables_initializer())\n",
    "    # print ab\n",
    "    print ((ab.eval(\n",
    "        feed_dict={ a: [[1,2,3]], b: [[5,6]] , c:[[1,1,1]]})))\n",
    "    # print ab_\n",
    "    print ((ab_.eval(\n",
    "        feed_dict={ a: [[1,2,3]], b: [[5,6]] , c:[[1,1,1]]})))\n",
    "    # print abc\n",
    "    X = abc.eval(\n",
    "        feed_dict={ a: [[1,2,3]], b: [[5,6]] , c:[[1,1,1]]}\n",
    "    )\n",
    "    # print ab_2\n",
    "    print ab_2.eval(feed_dict={a:[[1,2,3]], b:[[5,6]]})\n",
    "    # print ab_2sum\n",
    "    print ab_2sum.eval(feed_dict={a:[[1,2,3]], b:[[5,6]]})\n",
    "    # print ab_lamda\n",
    "    print ab_lamda.eval(feed_dict={a:[[1,2,3]], b:[[5,6]]})\n",
    "\n"
   ]
  },
  {
   "cell_type": "markdown",
   "metadata": {},
   "source": [
    "## Filter the NAN Value"
   ]
  },
  {
   "cell_type": "code",
   "execution_count": 3,
   "metadata": {},
   "outputs": [],
   "source": [
    "A = [1,1,np.nan]"
   ]
  },
  {
   "cell_type": "code",
   "execution_count": 4,
   "metadata": {},
   "outputs": [
    {
     "name": "stdout",
     "output_type": "stream",
     "text": [
      "[[ True False]]\n",
      "[ 6.  4.]\n"
     ]
    }
   ],
   "source": [
    "x = tf.placeholder(tf.float64, shape=[None, None])\n",
    "nanX = tf.is_nan(x)\n",
    "y = tf.boolean_mask(x,tf.logical_not(nanX),name='boolean_mask')\n",
    "with tf.Session() as session:\n",
    "    print ((nanX.eval(\n",
    "        feed_dict={ x: [[np.nan,6]]})))\n",
    "    print (y.eval(feed_dict={x:[[np.nan, 6],[4, np.nan]]}))"
   ]
  },
  {
   "cell_type": "code",
   "execution_count": null,
   "metadata": {},
   "outputs": [],
   "source": []
  },
  {
   "cell_type": "code",
   "execution_count": null,
   "metadata": {},
   "outputs": [],
   "source": []
  },
  {
   "cell_type": "code",
   "execution_count": null,
   "metadata": {},
   "outputs": [],
   "source": []
  }
 ],
 "metadata": {
  "kernelspec": {
   "display_name": "Python 2",
   "language": "python",
   "name": "python2"
  },
  "language_info": {
   "codemirror_mode": {
    "name": "ipython",
    "version": 2
   },
   "file_extension": ".py",
   "mimetype": "text/x-python",
   "name": "python",
   "nbconvert_exporter": "python",
   "pygments_lexer": "ipython2",
   "version": "2.7.10"
  },
  "toc": {
   "base_numbering": 1,
   "nav_menu": {},
   "number_sections": true,
   "sideBar": true,
   "skip_h1_title": true,
   "title_cell": "Table of Contents",
   "title_sidebar": "Contents",
   "toc_cell": false,
   "toc_position": {
    "height": "calc(100% - 180px)",
    "left": "10px",
    "top": "150px",
    "width": "384px"
   },
   "toc_section_display": true,
   "toc_window_display": true
  }
 },
 "nbformat": 4,
 "nbformat_minor": 2
}
