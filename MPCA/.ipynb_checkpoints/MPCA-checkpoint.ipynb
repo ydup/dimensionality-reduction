{
 "cells": [
  {
   "cell_type": "markdown",
   "metadata": {},
   "source": [
    "# Implementation of MPCA with Python\n",
    "\n",
    "Author: Yadong Zhang\n",
    "\n",
    "Date: 10-8-2018\n",
    "\n",
    "This algorithm refers to the paper, __MPCA: Multilinear Principal Component Analysis of Tensor Objects__. \n",
    "https://ieeexplore.ieee.org/document/4359192/\n",
    "\n",
    "Step:\n",
    "\n",
    "1. Input: A set of tensor samples\n",
    "2. Output: Low dimensional representation of the input tensor samples with maximum variation captured\n",
    "3. Algorithm:\n",
    "    + Preprocessing: Center the input samples\n",
    "    + Initialization: Full projection truncation\n",
    "    + Local optimizaition:\n",
    "        - Calculate: Ym\n",
    "        - Calculate: totalScatter_Y\n",
    "        - For k = 1: epoch\n",
    "            - For n = 1: N\n",
    "                * Set the Un consisted of the Pn eigenvalues of the matrix\n",
    "            - Calculate Ym and totalScatter_Yk\n",
    "            - If totalScatter_Y(k) - totalScatter_Y(k-1) < threshold\n",
    "                * break\n",
    "    + Projection"
   ]
  },
  {
   "cell_type": "markdown",
   "metadata": {},
   "source": [
    "## Basic Operation in the MPCA"
   ]
  },
  {
   "cell_type": "markdown",
   "metadata": {},
   "source": [
    "### Calculate the n-Mode Eigenvalues and Eigenvectors"
   ]
  },
  {
   "cell_type": "markdown",
   "metadata": {},
   "source": [
    "Assume that we have two samples,\n",
    "\n",
    "sample1 = [[ 0,  1,  2, 10],\n",
    "        [ 3,  4,  5, 0],\n",
    "        [ 6,  7,  8, 1]]\n",
    "        \n",
    "sample2 = [[ 9, 10, 11, 2],\n",
    "        [12, 13, 14,3],\n",
    "        [15, 16, 17,0]]"
   ]
  },
  {
   "cell_type": "markdown",
   "metadata": {},
   "source": [
    "#### Basic Numpy Function"
   ]
  },
  {
   "cell_type": "code",
   "execution_count": 1,
   "metadata": {},
   "outputs": [],
   "source": [
    "sampleSet = [[[ 0,  1,  2, 10],\n",
    "        [ 3,  4,  5, 0],\n",
    "        [ 6,  7,  8, 1]],\n",
    "       [[ 9, 10, 11, 2],\n",
    "        [12, 13, 14,3],\n",
    "        [15, 16, 17,0]]]"
   ]
  },
  {
   "cell_type": "code",
   "execution_count": 2,
   "metadata": {},
   "outputs": [
    {
     "data": {
      "text/plain": [
       "(2, 3, 4)"
      ]
     },
     "execution_count": 2,
     "metadata": {},
     "output_type": "execute_result"
    }
   ],
   "source": [
    "import numpy as np\n",
    "np.shape(sampleSet)"
   ]
  },
  {
   "cell_type": "code",
   "execution_count": 3,
   "metadata": {},
   "outputs": [],
   "source": [
    "setArr =np.array(sampleSet)"
   ]
  },
  {
   "cell_type": "code",
   "execution_count": 4,
   "metadata": {},
   "outputs": [
    {
     "data": {
      "text/plain": [
       "(3, 2, 4)"
      ]
     },
     "execution_count": 4,
     "metadata": {},
     "output_type": "execute_result"
    }
   ],
   "source": [
    "# 2D rotaion in the axes 0 & 1\n",
    "np.shape(np.rot90(setArr, axes=(0,1)))"
   ]
  },
  {
   "cell_type": "code",
   "execution_count": 5,
   "metadata": {},
   "outputs": [
    {
     "data": {
      "text/plain": [
       "(4, 3, 2)"
      ]
     },
     "execution_count": 5,
     "metadata": {},
     "output_type": "execute_result"
    }
   ],
   "source": [
    "# Rotate the axse 1&2 into 0&1\n",
    "np.shape(setArr.T)\n",
    "# The axes 2 is time"
   ]
  },
  {
   "cell_type": "code",
   "execution_count": 6,
   "metadata": {},
   "outputs": [
    {
     "data": {
      "text/plain": [
       "array([[ 0,  3,  6],\n",
       "       [ 1,  4,  7],\n",
       "       [ 2,  5,  8],\n",
       "       [10,  0,  1]])"
      ]
     },
     "execution_count": 6,
     "metadata": {},
     "output_type": "execute_result"
    }
   ],
   "source": [
    "Xm = setArr.T[:,:,0]\n",
    "Xm"
   ]
  },
  {
   "cell_type": "code",
   "execution_count": 7,
   "metadata": {},
   "outputs": [],
   "source": [
    "# Calculate the eigenvalue and eigenvectors of Xm*Xm^T\n",
    "w, v = np.linalg.eig(np.dot(Xm, Xm.T))"
   ]
  },
  {
   "cell_type": "code",
   "execution_count": 8,
   "metadata": {},
   "outputs": [
    {
     "data": {
      "text/plain": [
       "array([  2.11391082e+02,   9.32775464e+01,   3.31371653e-01,\n",
       "         1.66147437e-14])"
      ]
     },
     "execution_count": 8,
     "metadata": {},
     "output_type": "execute_result"
    }
   ],
   "source": [
    "w"
   ]
  },
  {
   "cell_type": "code",
   "execution_count": 9,
   "metadata": {},
   "outputs": [
    {
     "data": {
      "text/plain": [
       "array([[  4.36939815e-01,   2.18294004e-01,   7.71209867e-01,\n",
       "         -4.08248290e-01],\n",
       "       [  5.47664404e-01,   1.66771086e-01,   7.47291032e-02,\n",
       "          8.16496581e-01],\n",
       "       [  6.58388993e-01,   1.15248168e-01,  -6.21751661e-01,\n",
       "         -4.08248290e-01],\n",
       "       [  2.75084047e-01,  -9.54595722e-01,   1.14349353e-01,\n",
       "          1.98721052e-15]])"
      ]
     },
     "execution_count": 9,
     "metadata": {},
     "output_type": "execute_result"
    }
   ],
   "source": [
    "v"
   ]
  },
  {
   "cell_type": "code",
   "execution_count": 10,
   "metadata": {},
   "outputs": [
    {
     "data": {
      "text/plain": [
       "array([  92.36518032,  115.77137091,  139.1775615 ,   58.15031428])"
      ]
     },
     "execution_count": 10,
     "metadata": {},
     "output_type": "execute_result"
    }
   ],
   "source": [
    "np.dot(np.dot(Xm, Xm.T), v[:,0])"
   ]
  },
  {
   "cell_type": "code",
   "execution_count": 11,
   "metadata": {},
   "outputs": [
    {
     "data": {
      "text/plain": [
       "array([  92.36518032,  115.77137091,  139.1775615 ,   58.15031428])"
      ]
     },
     "execution_count": 11,
     "metadata": {},
     "output_type": "execute_result"
    }
   ],
   "source": [
    "np.dot(w[0], v[:,0])"
   ]
  },
  {
   "cell_type": "markdown",
   "metadata": {},
   "source": [
    "Note: the rotation is unnecessary."
   ]
  },
  {
   "cell_type": "markdown",
   "metadata": {},
   "source": [
    "#### Eigen-Decompostion of the X Scatter"
   ]
  },
  {
   "cell_type": "code",
   "execution_count": 12,
   "metadata": {},
   "outputs": [
    {
     "data": {
      "text/plain": [
       "(2, 3, 4)"
      ]
     },
     "execution_count": 12,
     "metadata": {},
     "output_type": "execute_result"
    }
   ],
   "source": [
    "sampleSet = [[[ 0,  1,  2, 10],\n",
    "        [ 3,  4,  5, 0],\n",
    "        [ 6,  7,  8, 1]],\n",
    "       [[ 9, 10, 11, 2],\n",
    "        [12, 13, 14,3],\n",
    "        [15, 16, 17,0]]]\n",
    "np.shape(sampleSet)"
   ]
  },
  {
   "cell_type": "code",
   "execution_count": 13,
   "metadata": {},
   "outputs": [],
   "source": [
    "setArr =np.array(sampleSet)"
   ]
  },
  {
   "cell_type": "code",
   "execution_count": 14,
   "metadata": {},
   "outputs": [],
   "source": [
    "def eigScatter(data, sampleAxis=0, horAxis=1):\n",
    "    if sampleAxis is horAxis:\n",
    "        raise Exception(\"The value of sampleAxis and horAxis can not be same!\")\n",
    "    else:\n",
    "        axis=sampleAxis\n",
    "        lenAxis = np.shape(setArr)[axis]\n",
    "        sumDot = 0\n",
    "        for i in range(lenAxis):\n",
    "            matrix = np.squeeze(np.take(setArr,i,axis=axis))\n",
    "            # print matrix.shape, np.shape(setArr)[horAxis]\n",
    "            if matrix.shape[0]!=np.shape(setArr)[horAxis]:\n",
    "                matrix = matrix.T\n",
    "            sumDot = sumDot + np.dot(matrix, matrix.T)\n",
    "            # print np.dot(matrix, matrix.T)\n",
    "        value, vector = np.linalg.eig(sumDot)\n",
    "        # Sort the value and vector with decreasing order\n",
    "        idx = value.argsort()[::-1]   \n",
    "        value = value[idx]\n",
    "        vector = vector[:,idx]\n",
    "        return value, vector\n",
    "\n",
    "value1, vector1 = eigScatter(setArr, sampleAxis=0, horAxis=1)\n",
    "#print np.linalg.eig(np.dot(setArr[0,::], setArr[0,::].T) + np.dot(setArr[1,::], setArr[1,::].T))\n",
    "value2, vector2 = eigScatter(setArr, sampleAxis=1, horAxis=2)\n",
    "#print np.linalg.eig(np.dot(setArr[:,0,:], setArr[:,0,:].T) + np.dot(setArr[:,1,:], setArr[:,1,:].T) \\\n",
    "                    #+ np.dot(setArr[:,2,:], setArr[:,2,:].T))\n",
    "value3, vector3 = eigScatter(setArr, sampleAxis=2, horAxis=0)"
   ]
  },
  {
   "cell_type": "markdown",
   "metadata": {},
   "source": [
    "The order of horizon axis does not affect the result of the eigen-decomposition"
   ]
  },
  {
   "cell_type": "code",
   "execution_count": 15,
   "metadata": {},
   "outputs": [
    {
     "data": {
      "text/plain": [
       "(array([ 1792.29995822,    96.5901082 ,    10.10993358]),\n",
       " array([  1.79234257e+03,   1.05199701e+02,   1.45772639e+00,\n",
       "          5.56501031e-16]),\n",
       " array([ 1795.48123502,   103.51876498]))"
      ]
     },
     "execution_count": 15,
     "metadata": {},
     "output_type": "execute_result"
    }
   ],
   "source": [
    "value1, value2, value3"
   ]
  },
  {
   "cell_type": "code",
   "execution_count": 16,
   "metadata": {},
   "outputs": [
    {
     "data": {
      "text/plain": [
       "(array([ 1792.29995822,    96.5901082 ,    10.10993358]),\n",
       " array([  1.79234257e+03,   1.05199701e+02,   1.45772639e+00,\n",
       "          5.56501031e-16]),\n",
       " array([ 1795.48123502,   103.51876498]))"
      ]
     },
     "execution_count": 16,
     "metadata": {},
     "output_type": "execute_result"
    }
   ],
   "source": [
    "value1, value2, value3"
   ]
  },
  {
   "cell_type": "markdown",
   "metadata": {},
   "source": [
    "### Tensor Dot Implementation\n",
    "\n",
    "In order to reduce the dimension of a specific axis, the matrix U-(mode n) need to dot product with the set of tensor in the dimension-n."
   ]
  },
  {
   "cell_type": "code",
   "execution_count": 17,
   "metadata": {},
   "outputs": [
    {
     "name": "stdout",
     "output_type": "stream",
     "text": [
      "[ 1792.29995822    96.5901082     10.10993358] [[ 0.43085745  0.89999148  0.06616029]\n",
      " [ 0.55761941 -0.20787413 -0.80364727]\n",
      " [ 0.70952269 -0.38314968  0.59141684]]\n"
     ]
    }
   ],
   "source": [
    "value1, vector1 = eigScatter(setArr, sampleAxis=0, horAxis=1)\n",
    "print value1, vector1"
   ]
  },
  {
   "cell_type": "markdown",
   "metadata": {},
   "source": [
    "We choose the most significant vectors of the eigenvector and take them as U-(mode n)"
   ]
  },
  {
   "cell_type": "code",
   "execution_count": 18,
   "metadata": {},
   "outputs": [
    {
     "name": "stdout",
     "output_type": "stream",
     "text": [
      "(3, 1)\n",
      "(2, 3, 4)\n"
     ]
    }
   ],
   "source": [
    "print vector1[:,0:1].shape\n",
    "print setArr.shape\n",
    "# The horAxis will be reduced\n",
    "# setArr(2, 3, 4) *_2 U(3, 1)"
   ]
  },
  {
   "cell_type": "code",
   "execution_count": 19,
   "metadata": {},
   "outputs": [
    {
     "name": "stdout",
     "output_type": "stream",
     "text": [
      "[[[  5.92999437   7.62799392   9.32599348   5.01809722]]\n",
      "\n",
      " [[ 21.21199036  22.90998991  24.60798947   2.53457315]]]\n",
      "(2, 1, 4)\n"
     ]
    }
   ],
   "source": [
    "ld1 = np.einsum('aib,ik->akb', setArr, vector1[:,0:1])\n",
    "print ld1\n",
    "print ld1.shape"
   ]
  },
  {
   "cell_type": "markdown",
   "metadata": {},
   "source": [
    "Similarly, we create the other dimension reduction matrix U"
   ]
  },
  {
   "cell_type": "code",
   "execution_count": 20,
   "metadata": {},
   "outputs": [
    {
     "name": "stdout",
     "output_type": "stream",
     "text": [
      "[  1.79234257e+03   1.05199701e+02   1.45772639e+00   5.56501031e-16] [[  5.24049534e-01   1.37390804e-01   7.34730689e-01  -4.08248290e-01]\n",
      " [  5.74095964e-01   5.03695994e-02   3.47859309e-02   8.16496581e-01]\n",
      " [  6.24142394e-01  -3.66516053e-02  -6.65158827e-01  -4.08248290e-01]\n",
      " [  7.89441725e-02  -9.88556185e-01   1.28547607e-01  -4.30465681e-15]]\n",
      "(4, 3)\n",
      "(2, 3, 4)\n",
      "[[[  2.61182248e+00  -9.90849546e+00  -1.00556490e-02]\n",
      "  [  6.98924443e+00   4.30392783e-01  -9.82458346e-01]\n",
      "  [  1.22350523e+01  -1.04837007e-01  -5.40837360e-01]]\n",
      "\n",
      " [[  1.74808601e+01  -6.40066797e-01  -9.92163736e-02]\n",
      "  [  2.27266680e+01  -1.17529659e+00   3.42404612e-01]\n",
      "  [  2.76566991e+01   2.24369836e+00   2.69835168e-01]]]\n",
      "(2, 3, 3)\n"
     ]
    }
   ],
   "source": [
    "value2, vector2 = eigScatter(setArr, sampleAxis=1, horAxis=2)\n",
    "print value2, vector2\n",
    "print vector2[:,0:3].shape\n",
    "print setArr.shape\n",
    "ld2 = np.einsum('abi,ik->abk', setArr, vector2[:,0:3])\n",
    "print ld2\n",
    "print ld2.shape"
   ]
  },
  {
   "cell_type": "code",
   "execution_count": 21,
   "metadata": {},
   "outputs": [
    {
     "name": "stdout",
     "output_type": "stream",
     "text": [
      "[ 1795.48123502   103.51876498] [[-0.34508171 -0.93857265]\n",
      " [-0.93857265  0.34508171]]\n",
      "(2, 1)\n",
      "(2, 3, 4)\n",
      "[[[ -8.44715383  -9.73080818 -11.01446254  -5.32796238]\n",
      "  [-12.29811689 -13.58177125 -14.86542561  -2.81571794]\n",
      "  [-16.14907996 -17.43273432 -18.71638867  -0.34508171]]]\n",
      "(1, 3, 4)\n"
     ]
    }
   ],
   "source": [
    "value3, vector3 = eigScatter(setArr, sampleAxis=2, horAxis=0)\n",
    "print value3, vector3\n",
    "print vector3[:,0:1].shape\n",
    "print setArr.shape\n",
    "ld3 = np.einsum('iab,ik->kab', setArr, vector3[:,0:1])\n",
    "print ld3\n",
    "print ld3.shape"
   ]
  },
  {
   "cell_type": "markdown",
   "metadata": {},
   "source": [
    "### Kronecker Product"
   ]
  },
  {
   "cell_type": "code",
   "execution_count": 22,
   "metadata": {},
   "outputs": [
    {
     "data": {
      "text/plain": [
       "array([[ 1.,  1.,  0.,  0.],\n",
       "       [ 1.,  1.,  0.,  0.],\n",
       "       [ 0.,  0.,  1.,  1.],\n",
       "       [ 0.,  0.,  1.,  1.]])"
      ]
     },
     "execution_count": 22,
     "metadata": {},
     "output_type": "execute_result"
    }
   ],
   "source": [
    "np.kron(np.eye(2), np.ones((2,2)))"
   ]
  },
  {
   "cell_type": "code",
   "execution_count": 23,
   "metadata": {},
   "outputs": [
    {
     "data": {
      "text/plain": [
       "array([[ 1.,  1.,  1.,  1.,  0.,  0.,  0.,  0.],\n",
       "       [ 1.,  1.,  1.,  1.,  0.,  0.,  0.,  0.],\n",
       "       [ 1.,  1.,  1.,  1.,  0.,  0.,  0.,  0.],\n",
       "       [ 1.,  1.,  1.,  1.,  0.,  0.,  0.,  0.],\n",
       "       [ 0.,  0.,  0.,  0.,  1.,  1.,  1.,  1.],\n",
       "       [ 0.,  0.,  0.,  0.,  1.,  1.,  1.,  1.],\n",
       "       [ 0.,  0.,  0.,  0.,  1.,  1.,  1.,  1.],\n",
       "       [ 0.,  0.,  0.,  0.,  1.,  1.,  1.,  1.]])"
      ]
     },
     "execution_count": 23,
     "metadata": {},
     "output_type": "execute_result"
    }
   ],
   "source": [
    "np.kron(np.kron(np.eye(2), np.ones((2,2))), np.ones((2,2)))"
   ]
  },
  {
   "cell_type": "markdown",
   "metadata": {},
   "source": [
    "## MPCA Implementation"
   ]
  },
  {
   "cell_type": "markdown",
   "metadata": {},
   "source": [
    "\n",
    "### Input: A Set of Tensor Samples"
   ]
  },
  {
   "cell_type": "code",
   "execution_count": 24,
   "metadata": {},
   "outputs": [],
   "source": [
    "X1 = [[ 0,  1,  2, 10],\n",
    "        [ 3,  4,  5, 0],\n",
    "        [ 6,  7,  8, 1]]\n",
    "X2 = [[ 9, 10, 11, 2],\n",
    "        [12, 13, 14,3],\n",
    "        [15, 16, 17,0]]\n",
    "\n",
    "X = np.array([X1, X2])"
   ]
  },
  {
   "cell_type": "code",
   "execution_count": 25,
   "metadata": {},
   "outputs": [
    {
     "data": {
      "text/plain": [
       "(2, 3, 4)"
      ]
     },
     "execution_count": 25,
     "metadata": {},
     "output_type": "execute_result"
    }
   ],
   "source": [
    "# Sample axis is shape[0]\n",
    "X.shape"
   ]
  },
  {
   "cell_type": "code",
   "execution_count": 26,
   "metadata": {},
   "outputs": [
    {
     "data": {
      "text/plain": [
       "array([[  4.5,   5.5,   6.5,   6. ],\n",
       "       [  7.5,   8.5,   9.5,   1.5],\n",
       "       [ 10.5,  11.5,  12.5,   0.5]])"
      ]
     },
     "execution_count": 26,
     "metadata": {},
     "output_type": "execute_result"
    }
   ],
   "source": [
    "X.mean(axis=0)"
   ]
  },
  {
   "cell_type": "markdown",
   "metadata": {},
   "source": [
    "### Preprocessing (Center the Input Sample)"
   ]
  },
  {
   "cell_type": "code",
   "execution_count": 27,
   "metadata": {},
   "outputs": [],
   "source": [
    "X_ = X - X.mean(axis=0)"
   ]
  },
  {
   "cell_type": "markdown",
   "metadata": {},
   "source": [
    "### Initialization with the Full Projection"
   ]
  },
  {
   "cell_type": "code",
   "execution_count": 28,
   "metadata": {},
   "outputs": [],
   "source": [
    "value1, vector1 = eigScatter(X_, sampleAxis=0, horAxis=1)\n",
    "value2, vector2 = eigScatter(X_, sampleAxis=0, horAxis=2)\n",
    "# value2, vector2 = eigScatter(X_, sampleAxis=1, horAxis=2)\n",
    "# The horAxis is perpendicular to the sample axes, and it is the mode number\n",
    "# And in this notebook, we use the index of shape as the mode number"
   ]
  },
  {
   "cell_type": "code",
   "execution_count": 29,
   "metadata": {},
   "outputs": [
    {
     "name": "stdout",
     "output_type": "stream",
     "text": [
      "mode 1: [ 1792.29995822    96.5901082     10.10993358] [[ 0.43085745  0.89999148  0.06616029]\n",
      " [ 0.55761941 -0.20787413 -0.80364727]\n",
      " [ 0.70952269 -0.38314968  0.59141684]]\n",
      "mode 2: [  1.79234257e+03   1.05199701e+02   1.45772639e+00   5.56501031e-16] [[  5.24049534e-01   1.37390804e-01   7.34730689e-01  -4.08248290e-01]\n",
      " [  5.74095964e-01   5.03695994e-02   3.47859309e-02   8.16496581e-01]\n",
      " [  6.24142394e-01  -3.66516053e-02  -6.65158827e-01  -4.08248290e-01]\n",
      " [  7.89441725e-02  -9.88556185e-01   1.28547607e-01  -4.30465681e-15]]\n"
     ]
    }
   ],
   "source": [
    "print \"mode 1:\", value1, vector1\n",
    "print \"mode 2:\", value2, vector2"
   ]
  },
  {
   "cell_type": "code",
   "execution_count": 30,
   "metadata": {},
   "outputs": [
    {
     "name": "stdout",
     "output_type": "stream",
     "text": [
      "(3, 1)\n",
      "(4, 3)\n",
      "(2, 3, 4)\n"
     ]
    }
   ],
   "source": [
    "# reducition matrix for each mode\n",
    "# Select the most significant Pn eigenvalues\n",
    "U1 = vector1[:, 0:1]\n",
    "U2 = vector2[:, 0:3]\n",
    "print U1.shape\n",
    "print U2.shape\n",
    "print X_.shape"
   ]
  },
  {
   "cell_type": "markdown",
   "metadata": {},
   "source": [
    "### Dimension Reduction"
   ]
  },
  {
   "cell_type": "code",
   "execution_count": 31,
   "metadata": {},
   "outputs": [],
   "source": [
    "X_dotU1 = np.einsum('aib,ik->akb', X_, U1)\n",
    "X_dotU2 = np.einsum('abi,ik->abk', X_dotU1, U2)"
   ]
  },
  {
   "cell_type": "code",
   "execution_count": 32,
   "metadata": {},
   "outputs": [],
   "source": [
    "# This is the Y = {Y1, Y2}\n",
    "Y = X_dotU2"
   ]
  },
  {
   "cell_type": "code",
   "execution_count": 33,
   "metadata": {},
   "outputs": [
    {
     "name": "stdout",
     "output_type": "stream",
     "text": [
      "Total Scatter of Y0:  353.393048204\n",
      "Mean of Y: [[ 0.  0.  0.]]\n"
     ]
    }
   ],
   "source": [
    "# calculate the total scatter of Y\n",
    "totalScatter_Y0 = np.sum(Y*Y)\n",
    "print \"Total Scatter of Y0: \", totalScatter_Y0\n",
    "print \"Mean of Y:\", Y.mean(axis=0)"
   ]
  },
  {
   "cell_type": "code",
   "execution_count": 34,
   "metadata": {},
   "outputs": [
    {
     "data": {
      "text/plain": [
       "array([[[-13.06196845,  -2.38217357,  -0.63777215]],\n",
       "\n",
       "       [[ 13.06196845,   2.38217357,   0.63777215]]])"
      ]
     },
     "execution_count": 34,
     "metadata": {},
     "output_type": "execute_result"
    }
   ],
   "source": [
    "Y"
   ]
  },
  {
   "cell_type": "code",
   "execution_count": null,
   "metadata": {},
   "outputs": [],
   "source": []
  },
  {
   "cell_type": "code",
   "execution_count": null,
   "metadata": {},
   "outputs": [],
   "source": []
  },
  {
   "cell_type": "code",
   "execution_count": null,
   "metadata": {},
   "outputs": [],
   "source": []
  }
 ],
 "metadata": {
  "kernelspec": {
   "display_name": "Python 2",
   "language": "python",
   "name": "python2"
  },
  "language_info": {
   "codemirror_mode": {
    "name": "ipython",
    "version": 2
   },
   "file_extension": ".py",
   "mimetype": "text/x-python",
   "name": "python",
   "nbconvert_exporter": "python",
   "pygments_lexer": "ipython2",
   "version": "2.7.10"
  },
  "toc": {
   "base_numbering": 1,
   "nav_menu": {},
   "number_sections": true,
   "sideBar": true,
   "skip_h1_title": true,
   "title_cell": "Table of Contents",
   "title_sidebar": "Contents",
   "toc_cell": false,
   "toc_position": {
    "height": "calc(100% - 180px)",
    "left": "10px",
    "top": "150px",
    "width": "384px"
   },
   "toc_section_display": true,
   "toc_window_display": true
  }
 },
 "nbformat": 4,
 "nbformat_minor": 2
}
