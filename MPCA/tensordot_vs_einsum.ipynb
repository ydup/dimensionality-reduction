{
 "cells": [
  {
   "cell_type": "markdown",
   "metadata": {},
   "source": [
    "## Tensordot vs Einsum\n",
    "\n",
    "The __numpy.tensordot__ and __numpy.einsum__ are all used to calculate the dot product of the tensor.\n",
    "But what is different is that there exists __axes shift__ in the numpy.tensordot. This notebook will test on the performance of two methods for tensors dot product. I have opened a [issue]((https://github.com/numpy/numpy/issues/12111) on [numpy/github](https://github.com/numpy/numpy). Please feel free to discuss about this issue : )"
   ]
  },
  {
   "cell_type": "markdown",
   "metadata": {},
   "source": [
    "### Tensordot\n",
    "\n",
    "A np.diag([1,1,1]) will product with a 3D tensor by tensordot. \n",
    "\n",
    "The ```mat3D(2 * 3 * 4)``` dot ```diagMat(3 * 3)``` in the axes of ```shape-1```, and the result should be same as the original ```mat3D```\n",
    "\n",
    "And let's see what will happen here.\n",
    "\n"
   ]
  },
  {
   "cell_type": "code",
   "execution_count": 5,
   "metadata": {},
   "outputs": [
    {
     "name": "stdout",
     "output_type": "stream",
     "text": [
      "[[[ 0  1  2 10]\n",
      "  [ 3  4  5  0]\n",
      "  [ 6  7  8  1]]\n",
      "\n",
      " [[ 9 10 11  2]\n",
      "  [12 13 14  3]\n",
      "  [15 16 17  0]]]\n",
      "[[[ 0  3  6]\n",
      "  [ 1  4  7]\n",
      "  [ 2  5  8]\n",
      "  [10  0  1]]\n",
      "\n",
      " [[ 9 12 15]\n",
      "  [10 13 16]\n",
      "  [11 14 17]\n",
      "  [ 2  3  0]]]\n"
     ]
    }
   ],
   "source": [
    "import numpy as np\n",
    "diagMat=np.diag([1,1,1])\n",
    "mat3D = np.array([[[ 0,  1,  2, 10],\n",
    "        [ 3,  4,  5, 0],\n",
    "        [ 6,  7,  8, 1]],\n",
    "       [[ 9, 10, 11, 2],\n",
    "        [12, 13, 14,3],\n",
    "        [15, 16, 17,0]]])\n",
    "newMat = np.tensordot(mat3D, diagMat, axes=([1],[1]))\n",
    "print mat3D\n",
    "print newMat"
   ]
  },
  {
   "cell_type": "code",
   "execution_count": 8,
   "metadata": {},
   "outputs": [
    {
     "name": "stdout",
     "output_type": "stream",
     "text": [
      "(2, 3, 4)\n",
      "(3, 3)\n",
      "(2, 4, 3)\n"
     ]
    }
   ],
   "source": [
    "print mat3D.shape\n",
    "print diagMat.shape\n",
    "print newMat.shape"
   ]
  },
  {
   "cell_type": "markdown",
   "metadata": {},
   "source": [
    "#### Conclusion: \n",
    "The shape-0 and shape-2 axes of result are shift."
   ]
  },
  {
   "cell_type": "markdown",
   "metadata": {},
   "source": [
    "### Einsum\n",
    "Same as the example of tensordot, we use einsum to implement the dot product"
   ]
  },
  {
   "cell_type": "code",
   "execution_count": 9,
   "metadata": {},
   "outputs": [
    {
     "data": {
      "text/plain": [
       "array([[[ 0,  1,  2, 10],\n",
       "        [ 3,  4,  5,  0],\n",
       "        [ 6,  7,  8,  1]],\n",
       "\n",
       "       [[ 9, 10, 11,  2],\n",
       "        [12, 13, 14,  3],\n",
       "        [15, 16, 17,  0]]])"
      ]
     },
     "execution_count": 9,
     "metadata": {},
     "output_type": "execute_result"
    }
   ],
   "source": [
    "np.einsum('aib,ki->akb', mat3D, diagMat)\n",
    "# aib refers to the shape of mat3D, (2, 3, 4)\n",
    "# ki refers to the shape of diagMat, (3, 3)\n",
    "# akb refers to the shape of result. \n",
    "# The aib * ki -> akb indicate the tensor-1 will product the tensor-2 in the axes of i, \n",
    "# and finally get the new dim of axes, k"
   ]
  },
  {
   "cell_type": "markdown",
   "metadata": {},
   "source": [
    "#### Conclusion: \n",
    "This result is right!"
   ]
  },
  {
   "cell_type": "markdown",
   "metadata": {},
   "source": [
    "### Tensordotmat, A New Function Based on Tensordot\n",
    "In order to fix the bug of the axes shift in the tensordot, \n",
    "I write a ```tensordotmat``` function based on ```tensordot```, \n",
    "aiming at finishing the dot product of tensor and 2D matrix.\n",
    "And I pull a [request](https://github.com/numpy/numpy/pull/12114) on numpy/github with the code of ```tensordotmat```."
   ]
  },
  {
   "cell_type": "code",
   "execution_count": 10,
   "metadata": {},
   "outputs": [],
   "source": [
    "def tensordotmat(ts, mat, axes_ts=1, axes_mt=1):\n",
    "    \"\"\"\n",
    "    Compute the tensor dot product with matrix (2D).\n",
    "    ts belongs to the space of I1*I2*I3*...*Ij*...*IN, (I is integer value)\n",
    "    mat is a matrix with the shape of Pj*Ij.\n",
    "    This function help to implement the ts *_j mat\n",
    "    ts *_j mat = I1*I2*I3*...*Pj*...*IN\n",
    "    Parameters\n",
    "    ----------\n",
    "    ts, mat : array_like, len(shape) >= 1\n",
    "        Tensors to \"dot\".\n",
    "    axes_ts: variable type\n",
    "        * integer\n",
    "    axes_mt: \n",
    "        * integer\n",
    "    requirement:\n",
    "        the axes_ts shape of ts must be same as axes_mt shape of mat,\n",
    "        in another word, the Ij of ts and Ij of mat must be equal.\n",
    "    Return\n",
    "    ----------\n",
    "    a new tensor with the shape of I1*I2*I3*...*Pj*...*IN\n",
    "    See Also\n",
    "    --------\n",
    "    dot, einsum, tensordot\n",
    "    Note\n",
    "    --------\n",
    "    This function derives from tensordot, but aim at the dot product between mat and tensor.and\n",
    "\n",
    "    Examples\n",
    "     --------\n",
    "    A \"traditional\" example:   \n",
    "    >>> arr = np.array([[[1, 1, 1],\n",
    "                [0, 0, 0],\n",
    "                [2, 2, 2]],\n",
    "\n",
    "               [[0, 0, 0],\n",
    "                [4, 4, 4],\n",
    "                [0, 0, 0]]])\n",
    "\n",
    "    >>> w = np.diag([1, 1, 1])\n",
    "    >>> tensordotmat(arr, w, axes_ts=1,axes_mt=1)\n",
    "    array([[[1, 1, 1],\n",
    "        [0, 0, 0],\n",
    "        [2, 2, 2]],\n",
    "\n",
    "       [[0, 0, 0],\n",
    "        [4, 4, 4],\n",
    "        [0, 0, 0]]])\n",
    "    >>> # And the order of dimension does not change after tensordotmat\n",
    "    >>> # When you try tensordot, the order can be changed.\n",
    "    >>> w = [[1,0,0],[0,1,0]]\n",
    "    >>> tensordotmat(arr, w, axes_ts=1,axes_mt=1)\n",
    "    array([[[1, 1, 1],\n",
    "        [0, 0, 0]],\n",
    "\n",
    "       [[0, 0, 0],\n",
    "        [4, 4, 4]]])\n",
    "    \"\"\"\n",
    "    try:\n",
    "        na = len(axes_ts)\n",
    "        axes_ts = list(axes_ts)\n",
    "    except TypeError:\n",
    "        axes_ts = [axes_ts]\n",
    "        na = 1\n",
    "    try:\n",
    "        nb = len(axes_mt)\n",
    "        axes_mt = list(axes_mt)\n",
    "    except TypeError:\n",
    "        axes_mt = [axes_mt]\n",
    "        nb = 1\n",
    "\n",
    "    ts, mat = np.asarray(ts), np.asarray(mat)\n",
    "    as_ = ts.shape\n",
    "    nda = len(ts.shape)\n",
    "    bs = mat.shape\n",
    "    ndb = len(mat.shape)\n",
    "    equal = True\n",
    "    if (na != nb): equal = False\n",
    "    else:\n",
    "        for k in range(na):\n",
    "            if as_[axes_ts[k]] != bs[axes_mt[k]]:\n",
    "                equal = False\n",
    "                break\n",
    "            if axes_ts[k] < 0:\n",
    "                axes_ts[k] += nda\n",
    "            if axes_mt[k] < 0:\n",
    "                axes_mt[k] += ndb\n",
    "    if not equal:\n",
    "        raise ValueError(\"shape-mismatch for sum\")\n",
    "\n",
    "    # Move the axes to sum over to the end of \"ts\"\n",
    "    # and to the front of \"mat\"\n",
    "    notin = [k for k in range(nda) if k not in axes_ts]\n",
    "    newaxes_a = notin + axes_ts\n",
    "    N2 = 1\n",
    "    for axis in axes_ts:\n",
    "        N2 *= as_[axis]\n",
    "    newshape_a = (-1, N2)\n",
    "    olda = [as_[axis] for axis in notin]\n",
    "    \n",
    "    notin = [k for k in range(ndb) if k not in axes_mt]\n",
    "    newaxes_b = axes_mt + notin\n",
    "    N2 = 1\n",
    "    for axis in axes_mt:\n",
    "        N2 *= bs[axis]\n",
    "    newshape_b = (N2, -1)\n",
    "    \n",
    "    oldb = bs[0]\n",
    "    at = ts.transpose(newaxes_a).reshape(newshape_a)\n",
    "    bt = mat.transpose(newaxes_b).reshape(newshape_b)\n",
    "    res = np.dot(at, bt)\n",
    "    \n",
    "    res = res.reshape(olda+[oldb])\n",
    "    baseTs = range(nda-1)\n",
    "    baseTs.insert(axes_ts[0], nda-1)\n",
    "    return res.transpose(baseTs)\n",
    "    "
   ]
  },
  {
   "cell_type": "code",
   "execution_count": 12,
   "metadata": {},
   "outputs": [
    {
     "data": {
      "text/plain": [
       "array([[[ 0,  1,  2, 10],\n",
       "        [ 3,  4,  5,  0],\n",
       "        [ 6,  7,  8,  1]],\n",
       "\n",
       "       [[ 9, 10, 11,  2],\n",
       "        [12, 13, 14,  3],\n",
       "        [15, 16, 17,  0]]])"
      ]
     },
     "execution_count": 12,
     "metadata": {},
     "output_type": "execute_result"
    }
   ],
   "source": [
    "diagMat=np.diag([1,1,1])\n",
    "mat3D = np.array([[[ 0,  1,  2, 10],\n",
    "        [ 3,  4,  5, 0],\n",
    "        [ 6,  7,  8, 1]],\n",
    "       [[ 9, 10, 11, 2],\n",
    "        [12, 13, 14,3],\n",
    "        [15, 16, 17,0]]])\n",
    "tensordotmat(mat3D, diagMat, axes_ts=1, axes_mt=1)"
   ]
  }
 ],
 "metadata": {
  "kernelspec": {
   "display_name": "Python 2",
   "language": "python",
   "name": "python2"
  },
  "language_info": {
   "codemirror_mode": {
    "name": "ipython",
    "version": 2
   },
   "file_extension": ".py",
   "mimetype": "text/x-python",
   "name": "python",
   "nbconvert_exporter": "python",
   "pygments_lexer": "ipython2",
   "version": "2.7.10"
  },
  "toc": {
   "base_numbering": 1,
   "nav_menu": {},
   "number_sections": true,
   "sideBar": true,
   "skip_h1_title": false,
   "title_cell": "Table of Contents",
   "title_sidebar": "Contents",
   "toc_cell": false,
   "toc_position": {},
   "toc_section_display": true,
   "toc_window_display": false
  }
 },
 "nbformat": 4,
 "nbformat_minor": 2
}
